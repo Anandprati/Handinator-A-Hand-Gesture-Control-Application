{
 "cells": [
  {
   "cell_type": "code",
   "execution_count": null,
   "metadata": {},
   "outputs": [],
   "source": [
    "import cv2"
   ]
  },
  {
   "cell_type": "code",
   "execution_count": null,
   "metadata": {},
   "outputs": [],
   "source": [
    "cap=cv2.VideoCapture(0)"
   ]
  },
  {
   "cell_type": "code",
   "execution_count": null,
   "metadata": {},
   "outputs": [],
   "source": [
    "status, photo=cap.read()"
   ]
  },
  {
   "cell_type": "code",
   "execution_count": null,
   "metadata": {},
   "outputs": [],
   "source": [
    "status"
   ]
  },
  {
   "cell_type": "code",
   "execution_count": null,
   "metadata": {},
   "outputs": [],
   "source": [
    "#save the photo\n",
    "cv2.imwrite(\"p.jpg\",photo)"
   ]
  },
  {
   "cell_type": "code",
   "execution_count": null,
   "metadata": {},
   "outputs": [],
   "source": [
    "#show the pic, from python code\n",
    "cv2.imshow(\"my photo\" ,photo)\n",
    "cv2.waitKey(5000)\n",
    "cv2.destroyAllWindows()"
   ]
  },
  {
   "cell_type": "code",
   "execution_count": null,
   "metadata": {},
   "outputs": [],
   "source": [
    "import boto3\n"
   ]
  },
  {
   "cell_type": "code",
   "execution_count": null,
   "metadata": {},
   "outputs": [],
   "source": [
    "myec2 = boto3.resource(\"ec2\", region_name=\"ap-south-1\" )"
   ]
  },
  {
   "cell_type": "code",
   "execution_count": 9,
   "metadata": {},
   "outputs": [],
   "source": [
    "def launchOS():\n",
    "    response = myec2.create_instances( \n",
    "        ImageId=\"ami-067c21fb1979f0b27\",  \n",
    "        InstanceType=\"t2.micro\",\n",
    "        MaxCount=1,\n",
    "        MinCount=1\n",
    "    )\n"
   ]
  },
  {
   "cell_type": "code",
   "execution_count": 10,
   "metadata": {},
   "outputs": [],
   "source": [
    "import cvzone "
   ]
  },
  {
   "cell_type": "code",
   "execution_count": 11,
   "metadata": {},
   "outputs": [],
   "source": [
    "#AI to CV\n",
    "#pip install cvzone\n",
    "#pip install mediapipe"
   ]
  },
  {
   "cell_type": "code",
   "execution_count": 12,
   "metadata": {},
   "outputs": [],
   "source": [
    "from cvzone.HandTrackingModule import HandDetector"
   ]
  },
  {
   "cell_type": "code",
   "execution_count": 13,
   "metadata": {},
   "outputs": [],
   "source": [
    "detector = HandDetector()\n"
   ]
  },
  {
   "cell_type": "code",
   "execution_count": null,
   "metadata": {},
   "outputs": [],
   "source": [
    "import speech_recognition as sr\n",
    "import pywhatkit\n",
    "import pyautogui\n",
    "import os\n",
    "import subprocess\n",
    "import datetime\n",
    "import time\n",
    "import pyttsx3\n",
    "\n",
    "while True:\n",
    "    status , photo = cap.read()\n",
    "    cv2.imshow(\"my photo\" , photo)\n",
    "    if cv2.waitKey(100) == 13:\n",
    "        break\n",
    "    \n",
    "    handphoto = detector.findHands(photo , draw=False)\n",
    "    \n",
    "    if handphoto:\n",
    "        lmlist = handphoto[0]\n",
    "        fingerstatus = detector.fingersUp(lmlist)\n",
    "\n",
    "        if fingerstatus == [1,1,1,1,1]:\n",
    "            print(\"all up\")\n",
    "            launchOS()\n",
    "        elif fingerstatus == [ 0 ,1 ,0 , 0, 0]:\n",
    "            print(\"index finger up\")\n",
    "            os.system(\"start microsoft.windows.camera:\")\n",
    "    \n",
    "        elif fingerstatus == [ 0 , 1, 1, 0 , 0 ]:\n",
    "            print(\"index and middle finger up\")\n",
    "            os.system(\"notepad\")\n",
    "        elif fingerstatus == [ 0 , 0, 1, 1 , 0 ]:\n",
    "            \n",
    "            os.system(\"spotify\")\n",
    "            time.sleep(2)\n",
    "            pyautogui.hotkey('ctrl','l')\n",
    "            pyautogui.write('ya habibi',interval=0.1)\n",
    "            for key in ['enter','pagedown','tab','enter','enter']:\n",
    "            time.sleep(2)\n",
    "            pyautogui.press(key)\n",
    "       \n",
    "        elif fingerstatus == [ 0 , 0, 0, 0 , 1 ]:\n",
    "            engine=pyttsx3.init()\n",
    "            engine.say(\"Tell me phone No\")\n",
    "            engine.runAndWait()\n",
    "            number=input(\"Number please:\")\n",
    "            engine.say(\"Write your Messege here:\")\n",
    "            engine.runAndWait()\n",
    "            messege=input(\"Messege:\")\n",
    "            pywhatkit.sendwhatmsg_instantly(number,messege)\n",
    "            engine.say(\"Done\")\n",
    "        elif fingerstatus == [ 0 , 0, 0, 1 , 1 ]:\n",
    "            mywish=subprocess.run (['netsh', 'interface', 'set', 'interface', \"Wi-Fi\", \"admin=disable\"])\n",
    "    mywish\n",
    "        elif fingerstatus == [ 1 , 1, 0, 0 ,  0]:\n",
    "                os.system(\"shutdown -s\")\n",
    "        elif fingerstatus == [ 1 , 1, 0, 0 ,  0]:\n",
    "                time = datetime.datetime.now().strftime('%I:%M %p')\n",
    "                engine=pyttsx3.init()\n",
    "                engine.say('Current time is ' + time)\n",
    "                engine.runAndWait()\n",
    "\n",
    "        else:\n",
    "            print(\"idk\")\n",
    "\n",
    "        \n"
   ]
  },
  {
   "cell_type": "code",
   "execution_count": null,
   "metadata": {},
   "outputs": [],
   "source": [
    "cv2.destroyAllWindows()\n"
   ]
  },
  {
   "cell_type": "code",
   "execution_count": null,
   "metadata": {},
   "outputs": [],
   "source": [
    "cap.release()"
   ]
  },
  {
   "cell_type": "code",
   "execution_count": null,
   "metadata": {},
   "outputs": [],
   "source": []
  },
  {
   "cell_type": "code",
   "execution_count": null,
   "metadata": {},
   "outputs": [],
   "source": []
  }
 ],
 "metadata": {
  "kernelspec": {
   "display_name": "Python 3",
   "language": "python",
   "name": "python3"
  },
  "language_info": {
   "codemirror_mode": {
    "name": "ipython",
    "version": 3
   },
   "file_extension": ".py",
   "mimetype": "text/x-python",
   "name": "python",
   "nbconvert_exporter": "python",
   "pygments_lexer": "ipython3",
   "version": "3.7.6"
  }
 },
 "nbformat": 4,
 "nbformat_minor": 4
}
