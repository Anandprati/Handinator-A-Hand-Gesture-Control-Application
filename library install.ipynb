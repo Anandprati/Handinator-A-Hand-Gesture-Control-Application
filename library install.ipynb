{
 "cells": [
  {
   "cell_type": "code",
   "execution_count": 3,
   "metadata": {},
   "outputs": [
    {
     "name": "stderr",
     "output_type": "stream",
     "text": [
      "ERROR: Could not find a version that satisfies the requirement speech_recognition (from versions: none)\n",
      "ERROR: No matching distribution found for speech_recognition\n"
     ]
    }
   ],
   "source": [
    "!pip install speech_recognition as sr"
   ]
  },
  {
   "cell_type": "code",
   "execution_count": 4,
   "metadata": {},
   "outputs": [
    {
     "name": "stdout",
     "output_type": "stream",
     "text": [
      "Requirement already satisfied: pywhatkit in c:\\users\\acer\\anaconda3\\lib\\site-packages (5.4)\n",
      "Requirement already satisfied: pyautogui in c:\\users\\acer\\anaconda3\\lib\\site-packages (from pywhatkit) (0.9.54)\n",
      "Requirement already satisfied: Flask in c:\\users\\acer\\anaconda3\\lib\\site-packages (from pywhatkit) (1.1.1)\n",
      "Requirement already satisfied: requests in c:\\users\\acer\\anaconda3\\lib\\site-packages (from pywhatkit) (2.31.0)\n",
      "Requirement already satisfied: wikipedia in c:\\users\\acer\\anaconda3\\lib\\site-packages (from pywhatkit) (1.4.0)\n",
      "Requirement already satisfied: Pillow in c:\\users\\acer\\anaconda3\\lib\\site-packages (from pywhatkit) (9.5.0)\n",
      "Requirement already satisfied: mouseinfo in c:\\users\\acer\\anaconda3\\lib\\site-packages (from pyautogui->pywhatkit) (0.1.3)\n",
      "Requirement already satisfied: pyscreeze>=0.1.21 in c:\\users\\acer\\anaconda3\\lib\\site-packages (from pyautogui->pywhatkit) (0.1.29)\n",
      "Requirement already satisfied: pytweening>=1.0.4 in c:\\users\\acer\\anaconda3\\lib\\site-packages (from pyautogui->pywhatkit) (1.0.7)\n",
      "Requirement already satisfied: pygetwindow>=0.0.5 in c:\\users\\acer\\anaconda3\\lib\\site-packages (from pyautogui->pywhatkit) (0.0.9)\n",
      "Requirement already satisfied: pymsgbox in c:\\users\\acer\\anaconda3\\lib\\site-packages (from pyautogui->pywhatkit) (1.0.9)\n",
      "Requirement already satisfied: Werkzeug>=0.15 in c:\\users\\acer\\anaconda3\\lib\\site-packages (from Flask->pywhatkit) (1.0.0)\n",
      "Requirement already satisfied: Jinja2>=2.10.1 in c:\\users\\acer\\anaconda3\\lib\\site-packages (from Flask->pywhatkit) (2.11.1)\n",
      "Requirement already satisfied: click>=5.1 in c:\\users\\acer\\anaconda3\\lib\\site-packages (from Flask->pywhatkit) (8.1.7)\n",
      "Requirement already satisfied: itsdangerous>=0.24 in c:\\users\\acer\\anaconda3\\lib\\site-packages (from Flask->pywhatkit) (1.1.0)\n",
      "Requirement already satisfied: urllib3<3,>=1.21.1 in c:\\users\\acer\\anaconda3\\lib\\site-packages (from requests->pywhatkit) (1.25.8)\n",
      "Requirement already satisfied: idna<4,>=2.5 in c:\\users\\acer\\anaconda3\\lib\\site-packages (from requests->pywhatkit) (2.8)\n",
      "Requirement already satisfied: charset-normalizer<4,>=2 in c:\\users\\acer\\anaconda3\\lib\\site-packages (from requests->pywhatkit) (3.1.0)\n",
      "Requirement already satisfied: certifi>=2017.4.17 in c:\\users\\acer\\anaconda3\\lib\\site-packages (from requests->pywhatkit) (2019.11.28)\n",
      "Requirement already satisfied: beautifulsoup4 in c:\\users\\acer\\anaconda3\\lib\\site-packages (from wikipedia->pywhatkit) (4.12.2)\n",
      "Requirement already satisfied: pyperclip in c:\\users\\acer\\anaconda3\\lib\\site-packages (from mouseinfo->pyautogui->pywhatkit) (1.8.2)\n",
      "Requirement already satisfied: pyscreenshot in c:\\users\\acer\\anaconda3\\lib\\site-packages (from pyscreeze>=0.1.21->pyautogui->pywhatkit) (3.1)\n",
      "Requirement already satisfied: pyrect in c:\\users\\acer\\anaconda3\\lib\\site-packages (from pygetwindow>=0.0.5->pyautogui->pywhatkit) (0.2.0)\n",
      "Requirement already satisfied: MarkupSafe>=0.23 in c:\\users\\acer\\anaconda3\\lib\\site-packages (from Jinja2>=2.10.1->Flask->pywhatkit) (1.1.1)\n",
      "Requirement already satisfied: importlib-metadata; python_version < \"3.8\" in c:\\users\\acer\\anaconda3\\lib\\site-packages (from click>=5.1->Flask->pywhatkit) (1.5.0)\n",
      "Requirement already satisfied: colorama; platform_system == \"Windows\" in c:\\users\\acer\\anaconda3\\lib\\site-packages (from click>=5.1->Flask->pywhatkit) (0.4.3)\n",
      "Requirement already satisfied: soupsieve>1.2 in c:\\users\\acer\\anaconda3\\lib\\site-packages (from beautifulsoup4->wikipedia->pywhatkit) (1.9.5)\n",
      "Requirement already satisfied: EasyProcess in c:\\users\\acer\\anaconda3\\lib\\site-packages (from pyscreenshot->pyscreeze>=0.1.21->pyautogui->pywhatkit) (1.1)\n",
      "Requirement already satisfied: mss; python_version > \"3.4\" in c:\\users\\acer\\anaconda3\\lib\\site-packages (from pyscreenshot->pyscreeze>=0.1.21->pyautogui->pywhatkit) (7.0.1)\n",
      "Requirement already satisfied: entrypoint2 in c:\\users\\acer\\anaconda3\\lib\\site-packages (from pyscreenshot->pyscreeze>=0.1.21->pyautogui->pywhatkit) (1.1)\n",
      "Requirement already satisfied: zipp>=0.5 in c:\\users\\acer\\anaconda3\\lib\\site-packages (from importlib-metadata; python_version < \"3.8\"->click>=5.1->Flask->pywhatkit) (2.2.0)\n"
     ]
    }
   ],
   "source": [
    "!pip install pywhatkit"
   ]
  },
  {
   "cell_type": "code",
   "execution_count": 6,
   "metadata": {},
   "outputs": [
    {
     "name": "stdout",
     "output_type": "stream",
     "text": [
      "Requirement already satisfied: pyautogui in c:\\users\\acer\\anaconda3\\lib\\site-packages (0.9.54)\n",
      "Requirement already satisfied: pytweening>=1.0.4 in c:\\users\\acer\\anaconda3\\lib\\site-packages (from pyautogui) (1.0.7)\n",
      "Requirement already satisfied: pygetwindow>=0.0.5 in c:\\users\\acer\\anaconda3\\lib\\site-packages (from pyautogui) (0.0.9)\n",
      "Requirement already satisfied: mouseinfo in c:\\users\\acer\\anaconda3\\lib\\site-packages (from pyautogui) (0.1.3)\n",
      "Requirement already satisfied: pyscreeze>=0.1.21 in c:\\users\\acer\\anaconda3\\lib\\site-packages (from pyautogui) (0.1.29)\n",
      "Requirement already satisfied: pymsgbox in c:\\users\\acer\\anaconda3\\lib\\site-packages (from pyautogui) (1.0.9)\n",
      "Requirement already satisfied: pyrect in c:\\users\\acer\\anaconda3\\lib\\site-packages (from pygetwindow>=0.0.5->pyautogui) (0.2.0)\n",
      "Requirement already satisfied: pyperclip in c:\\users\\acer\\anaconda3\\lib\\site-packages (from mouseinfo->pyautogui) (1.8.2)\n",
      "Requirement already satisfied: Pillow>=5.2.0; python_version == \"3.7\" in c:\\users\\acer\\anaconda3\\lib\\site-packages (from mouseinfo->pyautogui) (9.5.0)\n",
      "Requirement already satisfied: pyscreenshot in c:\\users\\acer\\anaconda3\\lib\\site-packages (from pyscreeze>=0.1.21->pyautogui) (3.1)\n",
      "Requirement already satisfied: EasyProcess in c:\\users\\acer\\anaconda3\\lib\\site-packages (from pyscreenshot->pyscreeze>=0.1.21->pyautogui) (1.1)\n",
      "Requirement already satisfied: entrypoint2 in c:\\users\\acer\\anaconda3\\lib\\site-packages (from pyscreenshot->pyscreeze>=0.1.21->pyautogui) (1.1)\n",
      "Requirement already satisfied: mss; python_version > \"3.4\" in c:\\users\\acer\\anaconda3\\lib\\site-packages (from pyscreenshot->pyscreeze>=0.1.21->pyautogui) (7.0.1)\n"
     ]
    }
   ],
   "source": [
    "!pip install pyautogui"
   ]
  },
  {
   "cell_type": "code",
   "execution_count": 7,
   "metadata": {},
   "outputs": [
    {
     "name": "stderr",
     "output_type": "stream",
     "text": [
      "ERROR: Could not find a version that satisfies the requirement os (from versions: none)\n",
      "ERROR: No matching distribution found for os\n"
     ]
    }
   ],
   "source": [
    "!pip install os"
   ]
  },
  {
   "cell_type": "code",
   "execution_count": 8,
   "metadata": {},
   "outputs": [
    {
     "name": "stderr",
     "output_type": "stream",
     "text": [
      "ERROR: Could not find a version that satisfies the requirement subprocess (from versions: none)\n",
      "ERROR: No matching distribution found for subprocess\n"
     ]
    }
   ],
   "source": [
    "!pip install subprocess"
   ]
  },
  {
   "cell_type": "code",
   "execution_count": 9,
   "metadata": {},
   "outputs": [
    {
     "name": "stdout",
     "output_type": "stream",
     "text": [
      "Requirement already satisfied: datetime in c:\\users\\acer\\anaconda3\\lib\\site-packages (5.2)\n",
      "Requirement already satisfied: pytz in c:\\users\\acer\\anaconda3\\lib\\site-packages (from datetime) (2019.3)\n",
      "Requirement already satisfied: zope.interface in c:\\users\\acer\\anaconda3\\lib\\site-packages (from datetime) (6.0)\n",
      "Requirement already satisfied: setuptools in c:\\users\\acer\\anaconda3\\lib\\site-packages (from zope.interface->datetime) (45.2.0.post20200210)\n"
     ]
    }
   ],
   "source": [
    "!pip install datetime"
   ]
  },
  {
   "cell_type": "code",
   "execution_count": 10,
   "metadata": {},
   "outputs": [
    {
     "name": "stderr",
     "output_type": "stream",
     "text": [
      "ERROR: Could not find a version that satisfies the requirement time (from versions: none)\n",
      "ERROR: No matching distribution found for time\n"
     ]
    }
   ],
   "source": [
    "!pip install time"
   ]
  },
  {
   "cell_type": "code",
   "execution_count": 11,
   "metadata": {},
   "outputs": [
    {
     "name": "stdout",
     "output_type": "stream",
     "text": [
      "Requirement already satisfied: pyttsx3 in c:\\users\\acer\\anaconda3\\lib\\site-packages (2.90)\n",
      "Requirement already satisfied: comtypes; platform_system == \"Windows\" in c:\\users\\acer\\anaconda3\\lib\\site-packages (from pyttsx3) (1.1.7)\n",
      "Requirement already satisfied: pypiwin32; platform_system == \"Windows\" in c:\\users\\acer\\anaconda3\\lib\\site-packages (from pyttsx3) (223)\n",
      "Requirement already satisfied: pywin32; platform_system == \"Windows\" in c:\\users\\acer\\anaconda3\\lib\\site-packages (from pyttsx3) (227)\n"
     ]
    }
   ],
   "source": [
    "!pip install pyttsx3"
   ]
  },
  {
   "cell_type": "code",
   "execution_count": 12,
   "metadata": {},
   "outputs": [
    {
     "name": "stderr",
     "output_type": "stream",
     "text": [
      "ERROR: Could not find a version that satisfies the requirement cv2 (from versions: none)\n",
      "ERROR: No matching distribution found for cv2\n"
     ]
    }
   ],
   "source": [
    "!pip install cv2"
   ]
  },
  {
   "cell_type": "code",
   "execution_count": 13,
   "metadata": {},
   "outputs": [
    {
     "name": "stdout",
     "output_type": "stream",
     "text": [
      "Requirement already satisfied: pandas in c:\\users\\acer\\anaconda3\\lib\\site-packages (1.0.1)\n"
     ]
    },
    {
     "name": "stderr",
     "output_type": "stream",
     "text": [
      "ERROR: Could not find a version that satisfies the requirement as (from versions: none)\n",
      "ERROR: No matching distribution found for as\n"
     ]
    }
   ],
   "source": [
    "!pip install pandas as pd"
   ]
  },
  {
   "cell_type": "code",
   "execution_count": 14,
   "metadata": {},
   "outputs": [
    {
     "name": "stdout",
     "output_type": "stream",
     "text": [
      "Requirement already satisfied: openai in c:\\users\\acer\\anaconda3\\lib\\site-packages (0.27.2)\n",
      "Requirement already satisfied: tqdm in c:\\users\\acer\\anaconda3\\lib\\site-packages (from openai) (4.42.1)\n",
      "Requirement already satisfied: aiohttp in c:\\users\\acer\\anaconda3\\lib\\site-packages (from openai) (3.8.4)\n",
      "Requirement already satisfied: requests>=2.20 in c:\\users\\acer\\anaconda3\\lib\\site-packages (from openai) (2.31.0)\n",
      "Requirement already satisfied: typing-extensions; python_version < \"3.8\" in c:\\users\\acer\\anaconda3\\lib\\site-packages (from openai) (4.5.0)\n",
      "Requirement already satisfied: aiosignal>=1.1.2 in c:\\users\\acer\\anaconda3\\lib\\site-packages (from aiohttp->openai) (1.3.1)\n",
      "Requirement already satisfied: multidict<7.0,>=4.5 in c:\\users\\acer\\anaconda3\\lib\\site-packages (from aiohttp->openai) (6.0.4)\n",
      "Requirement already satisfied: asynctest==0.13.0; python_version < \"3.8\" in c:\\users\\acer\\anaconda3\\lib\\site-packages (from aiohttp->openai) (0.13.0)\n",
      "Requirement already satisfied: attrs>=17.3.0 in c:\\users\\acer\\anaconda3\\lib\\site-packages (from aiohttp->openai) (19.3.0)\n",
      "Requirement already satisfied: charset-normalizer<4.0,>=2.0 in c:\\users\\acer\\anaconda3\\lib\\site-packages (from aiohttp->openai) (3.1.0)\n",
      "Requirement already satisfied: yarl<2.0,>=1.0 in c:\\users\\acer\\anaconda3\\lib\\site-packages (from aiohttp->openai) (1.8.2)\n",
      "Requirement already satisfied: frozenlist>=1.1.1 in c:\\users\\acer\\anaconda3\\lib\\site-packages (from aiohttp->openai) (1.3.3)\n",
      "Requirement already satisfied: async-timeout<5.0,>=4.0.0a3 in c:\\users\\acer\\anaconda3\\lib\\site-packages (from aiohttp->openai) (4.0.2)\n",
      "Requirement already satisfied: urllib3<3,>=1.21.1 in c:\\users\\acer\\anaconda3\\lib\\site-packages (from requests>=2.20->openai) (1.25.8)\n",
      "Requirement already satisfied: certifi>=2017.4.17 in c:\\users\\acer\\anaconda3\\lib\\site-packages (from requests>=2.20->openai) (2019.11.28)\n",
      "Requirement already satisfied: idna<4,>=2.5 in c:\\users\\acer\\anaconda3\\lib\\site-packages (from requests>=2.20->openai) (2.8)\n"
     ]
    }
   ],
   "source": [
    "!pip install openai"
   ]
  },
  {
   "cell_type": "code",
   "execution_count": 15,
   "metadata": {},
   "outputs": [
    {
     "name": "stdout",
     "output_type": "stream",
     "text": [
      "Collecting bardapi\n",
      "  Downloading bardapi-0.1.38-py3-none-any.whl (39 kB)\n",
      "Collecting google-cloud-translate\n",
      "  Downloading google_cloud_translate-3.12.0-py2.py3-none-any.whl (128 kB)\n",
      "Collecting httpx[http2]>=0.20.0\n",
      "  Downloading httpx-0.24.1-py3-none-any.whl (75 kB)\n",
      "Requirement already satisfied: requests in c:\\users\\acer\\anaconda3\\lib\\site-packages (from bardapi) (2.31.0)\n",
      "Collecting deep-translator\n",
      "  Downloading deep_translator-1.11.4-py3-none-any.whl (42 kB)\n",
      "Collecting browser-cookie3\n",
      "  Downloading browser_cookie3-0.19.1-py3-none-any.whl (14 kB)\n",
      "Collecting langdetect\n",
      "  Downloading langdetect-1.0.9.tar.gz (981 kB)\n",
      "Requirement already satisfied: colorama in c:\\users\\acer\\anaconda3\\lib\\site-packages (from bardapi) (0.4.3)\n",
      "Collecting google-api-core[grpc]!=2.0.*,!=2.1.*,!=2.10.*,!=2.2.*,!=2.3.*,!=2.4.*,!=2.5.*,!=2.6.*,!=2.7.*,!=2.8.*,!=2.9.*,<3.0.0dev,>=1.34.0\n",
      "  Downloading google_api_core-2.12.0-py3-none-any.whl (121 kB)\n",
      "Requirement already satisfied: protobuf!=3.20.0,!=3.20.1,!=4.21.0,!=4.21.1,!=4.21.2,!=4.21.3,!=4.21.4,!=4.21.5,<5.0.0dev,>=3.19.5 in c:\\users\\acer\\appdata\\roaming\\python\\python37\\site-packages (from google-cloud-translate->bardapi) (3.20.3)\n",
      "Collecting google-cloud-core<3.0.0dev,>=1.3.0\n",
      "  Downloading google_cloud_core-2.3.3-py2.py3-none-any.whl (29 kB)\n",
      "Collecting proto-plus<2.0.0dev,>=1.22.0\n",
      "  Downloading proto_plus-1.22.3-py3-none-any.whl (48 kB)\n",
      "Requirement already satisfied: certifi in c:\\users\\acer\\anaconda3\\lib\\site-packages (from httpx[http2]>=0.20.0->bardapi) (2019.11.28)\n",
      "Collecting sniffio\n",
      "  Using cached sniffio-1.3.0-py3-none-any.whl (10 kB)\n",
      "Requirement already satisfied: idna in c:\\users\\acer\\anaconda3\\lib\\site-packages (from httpx[http2]>=0.20.0->bardapi) (2.8)\n",
      "Collecting httpcore<0.18.0,>=0.15.0\n",
      "  Downloading httpcore-0.17.3-py3-none-any.whl (74 kB)\n",
      "Collecting h2<5,>=3; extra == \"http2\"\n",
      "  Downloading h2-4.1.0-py3-none-any.whl (57 kB)\n",
      "Requirement already satisfied: urllib3<3,>=1.21.1 in c:\\users\\acer\\anaconda3\\lib\\site-packages (from requests->bardapi) (1.25.8)\n",
      "Requirement already satisfied: charset-normalizer<4,>=2 in c:\\users\\acer\\anaconda3\\lib\\site-packages (from requests->bardapi) (3.1.0)\n",
      "Requirement already satisfied: beautifulsoup4<5.0.0,>=4.9.1 in c:\\users\\acer\\anaconda3\\lib\\site-packages (from deep-translator->bardapi) (4.12.2)\n",
      "Collecting lz4\n",
      "  Downloading lz4-4.3.2-cp37-cp37m-win_amd64.whl (99 kB)\n",
      "Collecting pycryptodomex\n",
      "  Downloading pycryptodomex-3.19.0-cp35-abi3-win_amd64.whl (1.7 MB)\n",
      "Requirement already satisfied: six in c:\\users\\acer\\anaconda3\\lib\\site-packages (from langdetect->bardapi) (1.14.0)\n",
      "Collecting google-auth<3.0.dev0,>=2.14.1\n",
      "  Downloading google_auth-2.23.2-py2.py3-none-any.whl (181 kB)\n",
      "Collecting googleapis-common-protos<2.0.dev0,>=1.56.2\n",
      "  Downloading googleapis_common_protos-1.60.0-py2.py3-none-any.whl (227 kB)\n",
      "Collecting grpcio<2.0dev,>=1.33.2; extra == \"grpc\"\n",
      "  Downloading grpcio-1.59.0-cp37-cp37m-win_amd64.whl (4.3 MB)\n",
      "Collecting grpcio-status<2.0.dev0,>=1.33.2; extra == \"grpc\"\n",
      "  Downloading grpcio_status-1.59.0-py3-none-any.whl (14 kB)\n",
      "Collecting h11<0.15,>=0.13\n",
      "  Using cached h11-0.14.0-py3-none-any.whl (58 kB)\n",
      "Collecting anyio<5.0,>=3.0\n",
      "  Downloading anyio-3.7.1-py3-none-any.whl (80 kB)\n",
      "Collecting hyperframe<7,>=6.0\n",
      "  Downloading hyperframe-6.0.1-py3-none-any.whl (12 kB)\n",
      "Collecting hpack<5,>=4.0\n",
      "  Downloading hpack-4.0.0-py3-none-any.whl (32 kB)\n",
      "Requirement already satisfied: soupsieve>1.2 in c:\\users\\acer\\anaconda3\\lib\\site-packages (from beautifulsoup4<5.0.0,>=4.9.1->deep-translator->bardapi) (1.9.5)\n",
      "Collecting cachetools<6.0,>=2.0.0\n",
      "  Downloading cachetools-5.3.1-py3-none-any.whl (9.3 kB)\n",
      "Collecting pyasn1-modules>=0.2.1\n",
      "  Downloading pyasn1_modules-0.3.0-py2.py3-none-any.whl (181 kB)\n",
      "Collecting rsa<5,>=3.1.4\n",
      "  Using cached rsa-4.9-py3-none-any.whl (34 kB)\n",
      "Requirement already satisfied: typing-extensions; python_version < \"3.8\" in c:\\users\\acer\\anaconda3\\lib\\site-packages (from h11<0.15,>=0.13->httpcore<0.18.0,>=0.15.0->httpx[http2]>=0.20.0->bardapi) (4.5.0)\n",
      "Collecting exceptiongroup; python_version < \"3.11\"\n",
      "  Downloading exceptiongroup-1.1.3-py3-none-any.whl (14 kB)\n",
      "Collecting pyasn1<0.6.0,>=0.4.6\n",
      "  Downloading pyasn1-0.5.0-py2.py3-none-any.whl (83 kB)\n",
      "Building wheels for collected packages: langdetect\n",
      "  Building wheel for langdetect (setup.py): started\n",
      "  Building wheel for langdetect (setup.py): finished with status 'done'\n",
      "  Created wheel for langdetect: filename=langdetect-1.0.9-py3-none-any.whl size=993226 sha256=9b328a29fb01a9a5b35da86a9e41fab38f8b2b1864367d80c1470d511c0e49db\n",
      "  Stored in directory: c:\\users\\acer\\appdata\\local\\pip\\cache\\wheels\\c5\\96\\8a\\f90c59ed25d75e50a8c10a1b1c2d4c402e4dacfa87f3aff36a\n",
      "Successfully built langdetect\n",
      "Installing collected packages: cachetools, pyasn1, pyasn1-modules, rsa, google-auth, googleapis-common-protos, grpcio, grpcio-status, google-api-core, google-cloud-core, proto-plus, google-cloud-translate, sniffio, h11, exceptiongroup, anyio, httpcore, hyperframe, hpack, h2, httpx, deep-translator, lz4, pycryptodomex, browser-cookie3, langdetect, bardapi\n",
      "Successfully installed anyio-3.7.1 bardapi-0.1.38 browser-cookie3-0.19.1 cachetools-5.3.1 deep-translator-1.11.4 exceptiongroup-1.1.3 google-api-core-2.12.0 google-auth-2.23.2 google-cloud-core-2.3.3 google-cloud-translate-3.12.0 googleapis-common-protos-1.60.0 grpcio-1.59.0 grpcio-status-1.59.0 h11-0.14.0 h2-4.1.0 hpack-4.0.0 httpcore-0.17.3 httpx-0.24.1 hyperframe-6.0.1 langdetect-1.0.9 lz4-4.3.2 proto-plus-1.22.3 pyasn1-0.5.0 pyasn1-modules-0.3.0 pycryptodomex-3.19.0 rsa-4.9 sniffio-1.3.0\n"
     ]
    },
    {
     "name": "stderr",
     "output_type": "stream",
     "text": [
      "ERROR: grpcio-status 1.59.0 has requirement protobuf>=4.21.6, but you'll have protobuf 3.20.3 which is incompatible.\n"
     ]
    }
   ],
   "source": [
    "!pip install bardapi"
   ]
  },
  {
   "cell_type": "code",
   "execution_count": 19,
   "metadata": {},
   "outputs": [
    {
     "name": "stdout",
     "output_type": "stream",
     "text": [
      "Collecting Bard\n",
      "  Downloading bard-0.1-py3-none-any.whl (978 bytes)\n",
      "Installing collected packages: Bard\n",
      "Successfully installed Bard-0.1\n"
     ]
    }
   ],
   "source": [
    "!pip install Bard"
   ]
  },
  {
   "cell_type": "code",
   "execution_count": null,
   "metadata": {},
   "outputs": [],
   "source": []
  },
  {
   "cell_type": "code",
   "execution_count": null,
   "metadata": {},
   "outputs": [],
   "source": []
  },
  {
   "cell_type": "code",
   "execution_count": null,
   "metadata": {},
   "outputs": [],
   "source": []
  },
  {
   "cell_type": "code",
   "execution_count": null,
   "metadata": {},
   "outputs": [],
   "source": []
  },
  {
   "cell_type": "code",
   "execution_count": null,
   "metadata": {},
   "outputs": [],
   "source": []
  }
 ],
 "metadata": {
  "kernelspec": {
   "display_name": "Python 3",
   "language": "python",
   "name": "python3"
  },
  "language_info": {
   "codemirror_mode": {
    "name": "ipython",
    "version": 3
   },
   "file_extension": ".py",
   "mimetype": "text/x-python",
   "name": "python",
   "nbconvert_exporter": "python",
   "pygments_lexer": "ipython3",
   "version": "3.7.6"
  }
 },
 "nbformat": 4,
 "nbformat_minor": 4
}
